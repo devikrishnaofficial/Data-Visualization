{
 "cells": [
  {
   "cell_type": "code",
   "execution_count": 4,
   "id": "228c356d-2a29-45a5-a744-7fdbaaf7b93d",
   "metadata": {},
   "outputs": [
    {
     "data": {
      "image/png": "[encoded data removed]",
      "text/plain": [
       "<Figure size 640x480 with 1 Axes>"
      ]
     },
     "metadata": {},
     "output_type": "display_data"
    }
   ],
   "source": [
    "import pandas as pd \n",
    "import matplotlib.pyplot as plt \n",
    "  \n",
    "# DataFrame to represent opening , closing, high  \n",
    "# and low prices of a stock for a week \n",
    "stock_prices = pd.DataFrame({'open': [36, 56, 45, 29, 65, 66, 67], \n",
    "                             'close': [29, 72, 11, 4, 23, 68, 45], \n",
    "                             'high': [42, 73, 61, 62, 73, 56, 55], \n",
    "                             'low': [22, 11, 10, 2, 13, 24, 25]}, \n",
    "                            index=pd.date_range( \n",
    "                              \"2021-11-10\", periods=7, freq=\"d\")) \n",
    "  \n",
    "  \n",
    "plt.figure() \n",
    "  \n",
    "# \"up\" dataframe will store the stock_prices  \n",
    "# when the closing stock price is greater \n",
    "# than or equal to the opening stock prices \n",
    "up = stock_prices[stock_prices.close >= stock_prices.open] \n",
    "  \n",
    "# \"down\" dataframe will store the stock_prices \n",
    "# when the closing stock price is \n",
    "# lesser than the opening stock prices \n",
    "down = stock_prices[stock_prices.close < stock_prices.open] \n",
    "  \n",
    "# When the stock prices have decreased, then it \n",
    "# will be represented by blue color candlestick \n",
    "col1 = 'blue'\n",
    "  \n",
    "# When the stock prices have increased, then it  \n",
    "# will be represented by green color candlestick \n",
    "col2 = 'pink'\n",
    "  \n",
    "# Setting width of candlestick elements \n",
    "width = .3\n",
    "width2 = .03\n",
    "  \n",
    "# Plotting up prices of the stock \n",
    "plt.bar(up.index, up.close-up.open, width, bottom=up.open, color=col1) \n",
    "plt.bar(up.index, up.high-up.close, width2, bottom=up.close, color=col1) \n",
    "plt.bar(up.index, up.low-up.open, width2, bottom=up.open, color=col1) \n",
    "  \n",
    "# Plotting down prices of the stock \n",
    "plt.bar(down.index, down.close-down.open, width, bottom=down.open, color=col2) \n",
    "plt.bar(down.index, down.high-down.open, width2, bottom=down.open, color=col2) \n",
    "plt.bar(down.index, down.low-down.close, width2, bottom=down.close, color=col2) \n",
    "  \n",
    "# rotating the x-axis tick labels at 30degree  \n",
    "# towards right \n",
    "plt.xticks(rotation=30, ha='right') \n",
    "  \n",
    "# displaying candlestick chart of stock data  \n",
    "# of a week \n",
    "plt.show() "
   ]
  },
  {
   "cell_type": "code",
   "execution_count": null,
   "id": "6a962d6a-f150-4196-9e01-5589ed00b126",
   "metadata": {},
   "outputs": [],
   "source": []
  }
 ],
 "metadata": {
  "kernelspec": {
   "display_name": "Python 3 (ipykernel)",
   "language": "python",
   "name": "python3"
  },
  "language_info": {
   "codemirror_mode": {
    "name": "ipython",
    "version": 3
   },
   "file_extension": ".py",
   "mimetype": "text/x-python",
   "name": "python",
   "nbconvert_exporter": "python",
   "pygments_lexer": "ipython3",
   "version": "3.11.7"
  }
 },
 "nbformat": 4,
 "nbformat_minor": 5
}
